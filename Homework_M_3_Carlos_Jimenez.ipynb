{
 "cells": [
  {
   "cell_type": "code",
   "execution_count": 1,
   "metadata": {},
   "outputs": [
    {
     "name": "stdout",
     "output_type": "stream",
     "text": [
      "13\n"
     ]
    }
   ],
   "source": [
    "# 1. Crear una variable que contenga un elemento del conjunto de los números enteros y luego imprimir por pantalla\n",
    "x = 13\n",
    "print (x)"
   ]
  },
  {
   "cell_type": "code",
   "execution_count": 2,
   "metadata": {},
   "outputs": [
    {
     "name": "stdout",
     "output_type": "stream",
     "text": [
      "8.5\n"
     ]
    }
   ],
   "source": [
    "# 2. Imprimir el tipo de dato de la constante 8.5\n",
    "number = 8.5 \n",
    "print (number)"
   ]
  },
  {
   "cell_type": "code",
   "execution_count": 3,
   "metadata": {},
   "outputs": [
    {
     "data": {
      "text/plain": [
       "int"
      ]
     },
     "execution_count": 3,
     "metadata": {},
     "output_type": "execute_result"
    }
   ],
   "source": [
    "# 3. Imprimir el tipo de la variable del punto 1\n",
    "type(x)"
   ]
  },
  {
   "cell_type": "code",
   "execution_count": 4,
   "metadata": {},
   "outputs": [
    {
     "name": "stdout",
     "output_type": "stream",
     "text": [
      "Carlos\n"
     ]
    }
   ],
   "source": [
    "# 4. Crear una variable que contenga tu nombre\n",
    "Name1 = \"Carlos\"\n",
    "print (Name1)"
   ]
  },
  {
   "cell_type": "code",
   "execution_count": 7,
   "metadata": {},
   "outputs": [
    {
     "name": "stdout",
     "output_type": "stream",
     "text": [
      "5+2j\n"
     ]
    }
   ],
   "source": [
    "# 5. Crear una variable que contenga un número complejo\n",
    "C1 = \"5+2j\"\n",
    "print(C1)"
   ]
  },
  {
   "cell_type": "code",
   "execution_count": 8,
   "metadata": {},
   "outputs": [
    {
     "data": {
      "text/plain": [
       "str"
      ]
     },
     "execution_count": 8,
     "metadata": {},
     "output_type": "execute_result"
    }
   ],
   "source": [
    "# 6. Mostrar el tipo de variable creada en el punto 5\n",
    "type (C1)"
   ]
  },
  {
   "cell_type": "code",
   "execution_count": 12,
   "metadata": {},
   "outputs": [
    {
     "name": "stdout",
     "output_type": "stream",
     "text": [
      "3.1416\n"
     ]
    }
   ],
   "source": [
    "# 7. Crea una variable que contenga el valor del número Pi redondeado a 4 decimales\n",
    "Pi = float(3.1416) \n",
    "print(Pi)"
   ]
  },
  {
   "cell_type": "code",
   "execution_count": 19,
   "metadata": {},
   "outputs": [
    {
     "name": "stdout",
     "output_type": "stream",
     "text": [
      "<class 'str'>\n",
      "<class 'bool'>\n",
      "<class 'bool'>\n"
     ]
    }
   ],
   "source": [
    "# 8. Crear una variable que contenga el valor 'True' y otra que contenga el valor True ¿Son lo mismo?\n",
    "T1 = 'True'\n",
    "print(type(T1))\n",
    "T2 = True\n",
    "print(type(T2))\n",
    "T3 = bool('True')\n",
    "print(type(T3))\n",
    "# 'True' es un tipo de dato String & True es un tipo de dato Booleano entonces no son lo mismo\n"
   ]
  },
  {
   "cell_type": "code",
   "execution_count": 20,
   "metadata": {},
   "outputs": [
    {
     "name": "stdout",
     "output_type": "stream",
     "text": [
      "<class 'str'>\n",
      "<class 'bool'>\n",
      "<class 'bool'>\n"
     ]
    }
   ],
   "source": [
    "# 9. Imprimir el tipo de dato correspondiente a las variables del punto 8\n",
    "print(type(T1))\n",
    "print(type(T2))\n",
    "print(type(T3))"
   ]
  },
  {
   "cell_type": "code",
   "execution_count": 22,
   "metadata": {},
   "outputs": [
    {
     "name": "stdout",
     "output_type": "stream",
     "text": [
      "21.5\n"
     ]
    }
   ],
   "source": [
    "# 10. Asignar a una variable, la suma de un entero y un decimal\n",
    "Sum1 = x + number\n",
    "print(Sum1) "
   ]
  },
  {
   "cell_type": "code",
   "execution_count": 26,
   "metadata": {},
   "outputs": [
    {
     "name": "stdout",
     "output_type": "stream",
     "text": [
      "(4+0j)\n"
     ]
    }
   ],
   "source": [
    "# 11. Realizar una operación de suma de numeros complejos\n",
    "C2 = 3+1j\n",
    "type(C2)\n",
    "C3 = 1-1j\n",
    "C4 = C2+C3\n",
    "print(C4)"
   ]
  },
  {
   "cell_type": "code",
   "execution_count": 30,
   "metadata": {},
   "outputs": [
    {
     "name": "stdout",
     "output_type": "stream",
     "text": [
      "<class 'complex'>\n",
      "(11.8-1j)\n"
     ]
    }
   ],
   "source": [
    "# 12. Realizart la suma de un número real y un número complejo\n",
    "R1 = 9.8\n",
    "type(R1)\n",
    "C5 = 2-1J\n",
    "C6 = R1+C5\n",
    "print(type(C6))\n",
    "print(C6)"
   ]
  },
  {
   "cell_type": "code",
   "execution_count": 31,
   "metadata": {},
   "outputs": [
    {
     "name": "stdout",
     "output_type": "stream",
     "text": [
      "127.4\n"
     ]
    }
   ],
   "source": [
    "# 13. Realizar una operación de multiplicación\n",
    "M1 = R1*x\n",
    "print(M1)"
   ]
  },
  {
   "cell_type": "code",
   "execution_count": 32,
   "metadata": {},
   "outputs": [
    {
     "data": {
      "text/plain": [
       "256"
      ]
     },
     "execution_count": 32,
     "metadata": {},
     "output_type": "execute_result"
    }
   ],
   "source": [
    "# 14. Mostrar el resultado de elevar 2 a la octava poetencia\n",
    "2**8"
   ]
  },
  {
   "cell_type": "code",
   "execution_count": 33,
   "metadata": {},
   "outputs": [
    {
     "name": "stdout",
     "output_type": "stream",
     "text": [
      "6.75\n"
     ]
    }
   ],
   "source": [
    "# 15. Obtener el cociente de la división de 27 entre 4 en una variable y luego mostrarla\n",
    "D1 = 27/4\n",
    "print(D1)"
   ]
  },
  {
   "cell_type": "code",
   "execution_count": 34,
   "metadata": {},
   "outputs": [
    {
     "name": "stdout",
     "output_type": "stream",
     "text": [
      "6\n"
     ]
    }
   ],
   "source": [
    "# 16. De la divisón solmanete mostrar la parte entera\n",
    "D2 = 27//4\n",
    "print(D2) "
   ]
  },
  {
   "cell_type": "code",
   "execution_count": 36,
   "metadata": {},
   "outputs": [
    {
     "name": "stdout",
     "output_type": "stream",
     "text": [
      "3\n"
     ]
    }
   ],
   "source": [
    "# 17. De la división entre 27 y 4 mostrar solamente el resto\n",
    "MOD1 = (27%4)\n",
    "print (MOD1)"
   ]
  },
  {
   "cell_type": "code",
   "execution_count": 38,
   "metadata": {},
   "outputs": [
    {
     "name": "stdout",
     "output_type": "stream",
     "text": [
      "27.0\n",
      "27\n"
     ]
    }
   ],
   "source": [
    "# 18. Utilizando como operadores el númnero 4 y los resultados obtenidos en 16 y 17, obtener 27 como resultado\n",
    "print(4*D1)\n",
    "print(4*D2+MOD1)"
   ]
  },
  {
   "cell_type": "code",
   "execution_count": 39,
   "metadata": {},
   "outputs": [
    {
     "name": "stdout",
     "output_type": "stream",
     "text": [
      "1A3B5C6D7F9G\n"
     ]
    }
   ],
   "source": [
    "# 19. Utilizar el operador \"+\" en una operación donde intervenga solo variables alfanumericas\n",
    "V1 = \"1A3B5C\"\n",
    "V2 = \"6D7F9G\"\n",
    "print (V1+V2)"
   ]
  },
  {
   "cell_type": "code",
   "execution_count": 44,
   "metadata": {},
   "outputs": [
    {
     "name": "stdout",
     "output_type": "stream",
     "text": [
      "<class 'str'>\n",
      "<class 'int'>\n"
     ]
    },
    {
     "data": {
      "text/plain": [
       "False"
      ]
     },
     "execution_count": 44,
     "metadata": {},
     "output_type": "execute_result"
    }
   ],
   "source": [
    "# 20. Evaluar si '2' es igual a 2 ¿Por que ocurre eso?\n",
    "N1 = '2'\n",
    "print(type(N1))\n",
    "N2 = 2\n",
    "print(type(N2))\n",
    "bool('2'==2)\n",
    "# Ocurre por que son dos tipos de datos distintos\n"
   ]
  },
  {
   "cell_type": "code",
   "execution_count": 46,
   "metadata": {},
   "outputs": [
    {
     "name": "stdout",
     "output_type": "stream",
     "text": [
      "<class 'int'>\n",
      "<class 'int'>\n"
     ]
    },
    {
     "data": {
      "text/plain": [
       "True"
      ]
     },
     "execution_count": 46,
     "metadata": {},
     "output_type": "execute_result"
    }
   ],
   "source": [
    "# 21. Utilizar las funciones de cambio de tipo de dato, para que la validación del punto 20 resulte verdadera\n",
    "N3 = int('2')\n",
    "print(type(N3))\n",
    "N2 = 2\n",
    "print(type(N2))\n",
    "bool(N3==N2)"
   ]
  },
  {
   "cell_type": "code",
   "execution_count": 48,
   "metadata": {},
   "outputs": [
    {
     "ename": "ValueError",
     "evalue": "could not convert string to float: '3,8'",
     "output_type": "error",
     "traceback": [
      "\u001b[1;31m---------------------------------------------------------------------------\u001b[0m",
      "\u001b[1;31mValueError\u001b[0m                                Traceback (most recent call last)",
      "Cell \u001b[1;32mIn[48], line 2\u001b[0m\n\u001b[0;32m      1\u001b[0m \u001b[39m# 22. ¿Por que arroja error el siguiente cambio de tipo de datos?\u001b[39;00m\n\u001b[1;32m----> 2\u001b[0m a \u001b[39m=\u001b[39m \u001b[39mfloat\u001b[39;49m (\u001b[39m'\u001b[39;49m\u001b[39m3,8\u001b[39;49m\u001b[39m'\u001b[39;49m)\n",
      "\u001b[1;31mValueError\u001b[0m: could not convert string to float: '3,8'"
     ]
    }
   ],
   "source": [
    "# 22. ¿Por que arroja error el siguiente cambio de tipo de datos?\n",
    "a = float ('3,8')\n",
    "# Por que python no reconoce decimales a partir de la separación de la coma"
   ]
  },
  {
   "cell_type": "code",
   "execution_count": 49,
   "metadata": {},
   "outputs": [
    {
     "name": "stdout",
     "output_type": "stream",
     "text": [
      "2\n"
     ]
    }
   ],
   "source": [
    "# 23. Crear una variable con el valor 3, utilizar el operador '-=' para modificar su contenido y que de como resultado 2\n",
    "V3 =3\n",
    "V3-=1\n",
    "print(V3)"
   ]
  },
  {
   "cell_type": "code",
   "execution_count": 50,
   "metadata": {},
   "outputs": [
    {
     "data": {
      "text/plain": [
       "4"
      ]
     },
     "execution_count": 50,
     "metadata": {},
     "output_type": "execute_result"
    }
   ],
   "source": [
    "# 24. Realizar la operación 1 << 2 ¿Por que el resultado? ¿Qué es es¿l sistema de numeración binario?\n",
    "1 << 2\n",
    "# 1 = 0001, por ende al aplicar 1 << 2 tenemos 0100 = (0 * 2^3)+(1 * 2^2)+(0 * 2^1)+(0 * 2^0)=0+4+0+0=4 "
   ]
  },
  {
   "cell_type": "code",
   "execution_count": 51,
   "metadata": {},
   "outputs": [
    {
     "name": "stdout",
     "output_type": "stream",
     "text": [
      "<class 'str'>\n",
      "<class 'int'>\n"
     ]
    },
    {
     "ename": "TypeError",
     "evalue": "can only concatenate str (not \"int\") to str",
     "output_type": "error",
     "traceback": [
      "\u001b[1;31m---------------------------------------------------------------------------\u001b[0m",
      "\u001b[1;31mTypeError\u001b[0m                                 Traceback (most recent call last)",
      "Cell \u001b[1;32mIn[51], line 6\u001b[0m\n\u001b[0;32m      4\u001b[0m N2 \u001b[39m=\u001b[39m \u001b[39m2\u001b[39m\n\u001b[0;32m      5\u001b[0m \u001b[39mprint\u001b[39m(\u001b[39mtype\u001b[39m(N2))\n\u001b[1;32m----> 6\u001b[0m N1\u001b[39m+\u001b[39;49mN2\n\u001b[0;32m      7\u001b[0m \u001b[39mbool\u001b[39m(\u001b[39m'\u001b[39m\u001b[39m2\u001b[39m\u001b[39m'\u001b[39m\u001b[39m==\u001b[39m\u001b[39m2\u001b[39m)\n\u001b[0;32m      8\u001b[0m \u001b[39m# No esta permitido \u001b[39;00m\n",
      "\u001b[1;31mTypeError\u001b[0m: can only concatenate str (not \"int\") to str"
     ]
    }
   ],
   "source": [
    "# 25. Realizar la operación 2 + '2' ¿Por que no esta permitido? ¿Si los operandos serian del mismo tipo siempre arrojaria el mismo resultado?\n",
    "N1 = '2'\n",
    "print(type(N1))\n",
    "N2 = 2\n",
    "print(type(N2))\n",
    "N1+N2\n",
    "bool('2'==2)\n",
    "# No esta permitido por que son dos tipos de variables distintas\n"
   ]
  },
  {
   "cell_type": "code",
   "execution_count": 53,
   "metadata": {},
   "outputs": [
    {
     "name": "stdout",
     "output_type": "stream",
     "text": [
      "<class 'int'>\n",
      "<class 'int'>\n",
      "4\n",
      "<class 'str'>\n",
      "<class 'str'>\n",
      "22\n"
     ]
    },
    {
     "data": {
      "text/plain": [
       "True"
      ]
     },
     "execution_count": 53,
     "metadata": {},
     "output_type": "execute_result"
    }
   ],
   "source": [
    "# 25. Realizar la operación 2 + '2' ¿Por que no esta permitido? ¿Si los operandos serian del mismo tipo siempre arrojaria el mismo resultado?\n",
    "N3 = int('2')\n",
    "print(type(N3))\n",
    "N2 = 2\n",
    "print(type(N2))\n",
    "print(N3+N2)\n",
    "bool(N3==N2)\n",
    "\n",
    "N3 = '2'\n",
    "print(type(N3))\n",
    "N2 = str(2)\n",
    "print(type(N2))\n",
    "print(N3+N2)\n",
    "bool(N3==N2)\n",
    "# Si los operandos son del mismo tipo, a diferente tipo de variable diferente tipo de resultado 'srt + str = str' ó 'int + int = int'"
   ]
  },
  {
   "cell_type": "code",
   "execution_count": 62,
   "metadata": {},
   "outputs": [
    {
     "name": "stdout",
     "output_type": "stream",
     "text": [
      "True\n"
     ]
    }
   ],
   "source": [
    "# Realizar una operación valida entre valores de tipo entro y string\n",
    "z = range (0,5)\n",
    "w = ('a','e','i','o')\n",
    "print(z!=w)"
   ]
  }
 ],
 "metadata": {
  "kernelspec": {
   "display_name": "Python 3",
   "language": "python",
   "name": "python3"
  },
  "language_info": {
   "codemirror_mode": {
    "name": "ipython",
    "version": 3
   },
   "file_extension": ".py",
   "mimetype": "text/x-python",
   "name": "python",
   "nbconvert_exporter": "python",
   "pygments_lexer": "ipython3",
   "version": "3.10.7"
  },
  "orig_nbformat": 4
 },
 "nbformat": 4,
 "nbformat_minor": 2
}
